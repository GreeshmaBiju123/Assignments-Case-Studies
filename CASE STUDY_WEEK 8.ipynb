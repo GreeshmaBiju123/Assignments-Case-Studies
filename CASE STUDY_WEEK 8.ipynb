{
 "cells": [
  {
   "cell_type": "markdown",
   "id": "7259f577",
   "metadata": {},
   "source": [
    "# TESTING OF HYPOTHESIS"
   ]
  },
  {
   "cell_type": "markdown",
   "id": "4d995c21",
   "metadata": {},
   "source": [
    "The question is:\n",
    "\n",
    "    \n",
    "    \n",
    "   A company started to invest in digital marketing as a new way of their product promotions. For that they collected data and decided to carry out a study on it.\n",
    "     \n",
    "     \n",
    "     \n",
    "     \n",
    "     \n",
    "     \n",
    "   ● The company wishes to clarify whether there is any increase in sales after stepping into digital marketing.\n",
    "  \n",
    "  ● The company needs to check whether there is any dependency between the features “Region” and “Manager”.\n",
    "   \n",
    "   Help the company to carry out their study with the help of data provided."
   ]
  },
  {
   "cell_type": "markdown",
   "id": "a68bc865",
   "metadata": {},
   "source": [
    "The given dataset consists of 22 rows and 5 columns namely Month, Region, Manager, Sales_before_digital_add(in $) and \n",
    "\n",
    "Sales_After_digital_add(in $)."
   ]
  },
  {
   "cell_type": "code",
   "execution_count": null,
   "id": "22852ea5",
   "metadata": {},
   "outputs": [],
   "source": [
    "import numpy as np\n",
    "import pandas as pd\n",
    "import seaborn as sns\n",
    "import scipy.stats as stats"
   ]
  },
  {
   "cell_type": "code",
   "execution_count": null,
   "id": "9fd25a8c",
   "metadata": {},
   "outputs": [],
   "source": [
    "data=pd.read_csv(\"Sales_add.csv\")"
   ]
  },
  {
   "cell_type": "code",
   "execution_count": null,
   "id": "12999561",
   "metadata": {},
   "outputs": [],
   "source": [
    "data.head()"
   ]
  },
  {
   "cell_type": "code",
   "execution_count": null,
   "id": "745e5517",
   "metadata": {},
   "outputs": [],
   "source": [
    "data.shape"
   ]
  },
  {
   "cell_type": "code",
   "execution_count": null,
   "id": "00239358",
   "metadata": {},
   "outputs": [],
   "source": [
    "data.info()"
   ]
  },
  {
   "cell_type": "code",
   "execution_count": null,
   "id": "0e0ac457",
   "metadata": {},
   "outputs": [],
   "source": [
    "data.isna().sum()"
   ]
  },
  {
   "cell_type": "markdown",
   "id": "138a3039",
   "metadata": {},
   "source": [
    "Hence, no null values present in the dataset."
   ]
  },
  {
   "cell_type": "markdown",
   "id": "e07a6cdc",
   "metadata": {},
   "source": [
    "# 1. Whether there is any increase in sales after stepping into digital marketing"
   ]
  },
  {
   "cell_type": "code",
   "execution_count": 25,
   "id": "1705ae39",
   "metadata": {},
   "outputs": [
    {
     "data": {
      "text/html": [
       "<div>\n",
       "<style scoped>\n",
       "    .dataframe tbody tr th:only-of-type {\n",
       "        vertical-align: middle;\n",
       "    }\n",
       "\n",
       "    .dataframe tbody tr th {\n",
       "        vertical-align: top;\n",
       "    }\n",
       "\n",
       "    .dataframe thead th {\n",
       "        text-align: right;\n",
       "    }\n",
       "</style>\n",
       "<table border=\"1\" class=\"dataframe\">\n",
       "  <thead>\n",
       "    <tr style=\"text-align: right;\">\n",
       "      <th></th>\n",
       "      <th>Sales_before_digital_add(in $)</th>\n",
       "      <th>Sales_After_digital_add(in $)</th>\n",
       "    </tr>\n",
       "  </thead>\n",
       "  <tbody>\n",
       "    <tr>\n",
       "      <th>count</th>\n",
       "      <td>22.000000</td>\n",
       "      <td>22.000000</td>\n",
       "    </tr>\n",
       "    <tr>\n",
       "      <th>mean</th>\n",
       "      <td>149239.954545</td>\n",
       "      <td>231123.727273</td>\n",
       "    </tr>\n",
       "    <tr>\n",
       "      <th>std</th>\n",
       "      <td>14844.042921</td>\n",
       "      <td>25556.777061</td>\n",
       "    </tr>\n",
       "    <tr>\n",
       "      <th>min</th>\n",
       "      <td>130263.000000</td>\n",
       "      <td>187305.000000</td>\n",
       "    </tr>\n",
       "    <tr>\n",
       "      <th>25%</th>\n",
       "      <td>138087.750000</td>\n",
       "      <td>214960.750000</td>\n",
       "    </tr>\n",
       "    <tr>\n",
       "      <th>50%</th>\n",
       "      <td>147444.000000</td>\n",
       "      <td>229986.500000</td>\n",
       "    </tr>\n",
       "    <tr>\n",
       "      <th>75%</th>\n",
       "      <td>157627.500000</td>\n",
       "      <td>250909.000000</td>\n",
       "    </tr>\n",
       "    <tr>\n",
       "      <th>max</th>\n",
       "      <td>178939.000000</td>\n",
       "      <td>276279.000000</td>\n",
       "    </tr>\n",
       "  </tbody>\n",
       "</table>\n",
       "</div>"
      ],
      "text/plain": [
       "       Sales_before_digital_add(in $)  Sales_After_digital_add(in $)\n",
       "count                       22.000000                      22.000000\n",
       "mean                    149239.954545                  231123.727273\n",
       "std                      14844.042921                   25556.777061\n",
       "min                     130263.000000                  187305.000000\n",
       "25%                     138087.750000                  214960.750000\n",
       "50%                     147444.000000                  229986.500000\n",
       "75%                     157627.500000                  250909.000000\n",
       "max                     178939.000000                  276279.000000"
      ]
     },
     "execution_count": 25,
     "metadata": {},
     "output_type": "execute_result"
    }
   ],
   "source": [
    "data[['Sales_before_digital_add(in $)','Sales_After_digital_add(in $)']].describe()"
   ]
  },
  {
   "cell_type": "markdown",
   "id": "12d9965e",
   "metadata": {},
   "source": [
    "We have to check whether there is any increase in sales after stepping into digital marketing . For that we should carry out one-tailed t-test such that\n",
    "\n",
    "NULL HYPOTHESIS: Average sales before and after digital marketing are same against\n",
    "\n",
    "ALTERNATIVE HYPOTHESIS:Average sales after digital marketing is greater than before digital marketing\n",
    "\n",
    "Next, consider the p-value,\n",
    "\n",
    "If the p-value is less than your significance level, you can reject the null hypothesis and conclude that the effect is statistically significant. In other words, the evidence in your sample is strong enough to be able to reject the null hypothesis at the population level.\n",
    "\n",
    "Here, the significane level is assumed to be 0.05."
   ]
  },
  {
   "cell_type": "code",
   "execution_count": 27,
   "id": "d5a8bbf1",
   "metadata": {},
   "outputs": [
    {
     "name": "stdout",
     "output_type": "stream",
     "text": [
      "6.336667004575778e-11\n"
     ]
    }
   ],
   "source": [
    "ttest,pval = stats.ttest_rel(data['Sales_before_digital_add(in $)'],data['Sales_After_digital_add(in $)'])\n",
    "print(pval)"
   ]
  },
  {
   "cell_type": "markdown",
   "id": "8d3be4b1",
   "metadata": {},
   "source": [
    "INSIGHT: Here, the p-value, 6.336667004575778e-11, is less than the significance level, 0.05.\n",
    "\n",
    "Hence, we should reject the null hypothesis and so accept alternative hypothesis.\n",
    "\n",
    "So, we can conclude that the average sales after digital marketing is greater than before digital marketing.\n",
    "\n",
    "Hence, **there is an increase in sales after stepping into digital marketing.**"
   ]
  },
  {
   "cell_type": "markdown",
   "id": "78ebc285",
   "metadata": {},
   "source": [
    "# 2. Whether there is any dependency between the features “Region” and “Manager”"
   ]
  },
  {
   "cell_type": "markdown",
   "id": "ce409173",
   "metadata": {},
   "source": [
    "We have to check whether there is any dependency between the features “Region” and “Manager”. For that we should carry out chi-square test for independence such that\n",
    "\n",
    "NULL HYPOTHESIS:There is dependency between the features “Region” and “Manager” against\n",
    "\n",
    "ALTERNATIVE HYPOTHESIS:There is not any dependency between the features “Region” and “Manager”\n",
    "\n"
   ]
  },
  {
   "cell_type": "code",
   "execution_count": 34,
   "id": "3f647fd8",
   "metadata": {},
   "outputs": [
    {
     "name": "stdout",
     "output_type": "stream",
     "text": [
      "contingency_table :-\n",
      " Manager     Manager - A  Manager - B  Manager - C\n",
      "Region                                           \n",
      "Region - A            4            3            3\n",
      "Region - B            4            1            2\n",
      "Region - C            1            3            1\n"
     ]
    }
   ],
   "source": [
    "data_chi = pd.read_csv('Sales_add.csv')\n",
    "contingency_table=pd.crosstab(data_chi[\"Region\"],data_chi[\"Manager\"])\n",
    "print('contingency_table :-\\n',contingency_table)"
   ]
  },
  {
   "cell_type": "code",
   "execution_count": 35,
   "id": "f6693adb",
   "metadata": {},
   "outputs": [
    {
     "name": "stdout",
     "output_type": "stream",
     "text": [
      "Observed Values :-\n",
      " [[4 3 3]\n",
      " [4 1 2]\n",
      " [1 3 1]]\n"
     ]
    }
   ],
   "source": [
    "#Observed Values\n",
    "Observed_Values = contingency_table.values \n",
    "print(\"Observed Values :-\\n\",Observed_Values)"
   ]
  },
  {
   "cell_type": "code",
   "execution_count": 36,
   "id": "b27e8c5f",
   "metadata": {},
   "outputs": [
    {
     "name": "stdout",
     "output_type": "stream",
     "text": [
      "Expected Values :-\n",
      " [[4.09090909 3.18181818 2.72727273]\n",
      " [2.86363636 2.22727273 1.90909091]\n",
      " [2.04545455 1.59090909 1.36363636]]\n"
     ]
    }
   ],
   "source": [
    "b=stats.chi2_contingency(contingency_table)\n",
    "Expected_Values = b[3]\n",
    "print(\"Expected Values :-\\n\",Expected_Values)"
   ]
  },
  {
   "cell_type": "code",
   "execution_count": 43,
   "id": "417019a8",
   "metadata": {},
   "outputs": [
    {
     "name": "stdout",
     "output_type": "stream",
     "text": [
      "Degree of Freedom:- 4\n"
     ]
    }
   ],
   "source": [
    "no_of_rows=len(contingency_table.iloc[0:3,0])\n",
    "no_of_columns=len(contingency_table.iloc[0,0:3])\n",
    "ddof=(no_of_rows-1)*(no_of_columns-1)\n",
    "print(\"Degree of Freedom:-\",ddof)\n",
    "alpha = 0.05"
   ]
  },
  {
   "cell_type": "code",
   "execution_count": 48,
   "id": "631b77a6",
   "metadata": {},
   "outputs": [
    {
     "name": "stdout",
     "output_type": "stream",
     "text": [
      "chi-square statistic:- 2.921995464852608\n"
     ]
    }
   ],
   "source": [
    "from scipy.stats import chi2\n",
    "chi_square=sum([(o-e)**2./e for o,e in zip(Observed_Values,Expected_Values)])\n",
    "chi_square_statistic=chi_square[0]+chi_square[1]\n",
    "print(\"chi-square statistic:-\",chi_square_statistic)"
   ]
  },
  {
   "cell_type": "code",
   "execution_count": 49,
   "id": "fde39e61",
   "metadata": {},
   "outputs": [
    {
     "name": "stdout",
     "output_type": "stream",
     "text": [
      "critical_value: 9.487729036781154\n"
     ]
    }
   ],
   "source": [
    "critical_value=chi2.ppf(q=1-alpha,df=ddof)\n",
    "print('critical_value:',critical_value)"
   ]
  },
  {
   "cell_type": "code",
   "execution_count": 50,
   "id": "7e24c8ad",
   "metadata": {},
   "outputs": [
    {
     "name": "stdout",
     "output_type": "stream",
     "text": [
      "p-value: 0.5709629929220089\n"
     ]
    }
   ],
   "source": [
    "#p-value\n",
    "p_value=1-chi2.cdf(x=chi_square_statistic,df=ddof)\n",
    "print('p-value:',p_value)"
   ]
  },
  {
   "cell_type": "code",
   "execution_count": 51,
   "id": "b965a9b6",
   "metadata": {},
   "outputs": [
    {
     "name": "stdout",
     "output_type": "stream",
     "text": [
      "Significance level:  0.05\n",
      "Degree of Freedom:  4\n",
      "chi-square statistic: 2.921995464852608\n",
      "critical_value: 9.487729036781154\n",
      "p-value: 0.5709629929220089\n"
     ]
    }
   ],
   "source": [
    "print('Significance level: ',alpha)\n",
    "print('Degree of Freedom: ',ddof)\n",
    "print('chi-square statistic:',chi_square_statistic)\n",
    "print('critical_value:',critical_value)\n",
    "print('p-value:',p_value)"
   ]
  },
  {
   "cell_type": "markdown",
   "id": "f5df06c5",
   "metadata": {},
   "source": [
    "if chi-square_statistic>=critical_value:\n",
    "    Reject null hypothesis, ie; There is not any relationship between 2 categorical variables\n",
    "else:\n",
    "    Accept null hypothesis, ie; There is a relationship between 2 categorical variables\n",
    "    \n",
    "    \n",
    "if p_value<=alpha:\n",
    "    Reject null hypothesis, ie; There is not any relationship between 2 categorical variables\n",
    "else:\n",
    "    Accept null hypothesis, ie; There is a relationship between 2 categorical variables    "
   ]
  },
  {
   "cell_type": "markdown",
   "id": "0e30e517",
   "metadata": {},
   "source": [
    "INSIGHT:-\n",
    "Here, the chi-square statistic, 2.921995464852608, is less than the critical value, 9.487729036781154 , so, we accept the null hypothesis\n",
    "\n",
    "OR\n",
    "\n",
    "We can consider the p-value, 0.5709629929220089, which is greater than the significance level, 0.05, we accept the null hypothesis.\n",
    "\n",
    "Hence, we can conclude that **there is a dependency between the  features “Region” and “Manager”**.\n",
    "\n",
    "ie; there is an association between “Region” and “Manager”."
   ]
  }
 ],
 "metadata": {
  "kernelspec": {
   "display_name": "Python 3",
   "language": "python",
   "name": "python3"
  },
  "language_info": {
   "codemirror_mode": {
    "name": "ipython",
    "version": 3
   },
   "file_extension": ".py",
   "mimetype": "text/x-python",
   "name": "python",
   "nbconvert_exporter": "python",
   "pygments_lexer": "ipython3",
   "version": "3.8.8"
  }
 },
 "nbformat": 4,
 "nbformat_minor": 5
}
